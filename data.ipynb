{
 "cells": [
  {
   "cell_type": "markdown",
   "id": "0",
   "metadata": {},
   "source": [
    "This is a page for exploring a single STAC collection"
   ]
  },
  {
   "cell_type": "code",
   "execution_count": null,
   "id": "1",
   "metadata": {},
   "outputs": [],
   "source": [
    "import geoviews as gv\n",
    "import panel as pn\n",
    "import param\n",
    "\n",
    "import utils.cards\n",
    "import utils.location\n",
    "import utils.template\n",
    "import utils.xyt\n",
    "import utils.zarr\n",
    "\n",
    "pn.extension()\n",
    "gv.extension(\"bokeh\")"
   ]
  },
  {
   "cell_type": "code",
   "execution_count": null,
   "id": "2",
   "metadata": {},
   "outputs": [],
   "source": [
    "class Page(utils.location.UrlQueryParams):\n",
    "\n",
    "    point_of_interest: utils.xyt.XYT | None = param.ClassSelector(class_=utils.xyt.XYT, allow_None=True, default=None)  # type: ignore\n",
    "    dataset: utils.zarr.ZarrDataset | None = param.ClassSelector(class_=utils.zarr.ZarrDataset, allow_None=True, default=None)  # type: ignore\n",
    "\n",
    "    @param.depends(\"site\", \"collection\", watch=True)\n",
    "    def update_poi_dataset(self):\n",
    "        if self.site is None or self.collection is None:\n",
    "            self.point_of_interest = None\n",
    "            self.dataset = None\n",
    "            return\n",
    "        extent = utils.xyt.Extent.from_pystac(self.collection.extent)\n",
    "        self.point_of_interest = utils.xyt.XYT(extent=extent)\n",
    "        self.dataset = utils.zarr.ZarrDataset.from_pystac(self.point_of_interest, self.collection)\n",
    "\n",
    "    @param.depends(\"site\", \"collection\", \"point_of_interest\", \"dataset\", watch=False)\n",
    "    def main(self) -> pn.Column:\n",
    "        \"\"\"content to render in the main area of a template\"\"\"\n",
    "        elements = []\n",
    "\n",
    "        if self.site is None:\n",
    "            elements.append(pn.pane.Alert(\"Site not found\", alert_type=\"danger\"))\n",
    "        elif self.collection is None:\n",
    "            elements.append(pn.pane.Alert(\"Collection not found\", alert_type=\"danger\"))\n",
    "        elif self.point_of_interest is None:\n",
    "            # should be unreachable\n",
    "            elements.append(pn.pane.Alert(\"Point of interest not found\", alert_type=\"danger\"))\n",
    "        elif self.dataset is None:\n",
    "            # should be unreachable\n",
    "            elements.append(pn.pane.Alert(\"Dataset not found\", alert_type=\"danger\"))\n",
    "        else:\n",
    "            site_name = self.site.title or self.site.id\n",
    "            collection_name = self.collection.title or self.collection.id\n",
    "            elements.append(\n",
    "                pn.pane.Markdown(\n",
    "                    f\"\"\"\n",
    "                    # Data explorer\n",
    "\n",
    "                    On this page you can interactively explore our data collection {collection_name}\n",
    "                    for the site {site_name}.\n",
    "                    \"\"\"\n",
    "                )\n",
    "            )\n",
    "            elements.append(pn.pane.Markdown(\"## Site\"))\n",
    "            elements.append(utils.cards.site(self.site, collapsed=True))\n",
    "            elements.append(pn.pane.Markdown(\"## Collection\"))\n",
    "            elements.append(utils.cards.collection(self.site, self.collection, collapsed=True))\n",
    "            elements.append(pn.pane.Markdown(\n",
    "                f\"\"\"\n",
    "                ## Data\n",
    "\n",
    "                The controls below allow you to explore this datacube in time and space.\n",
    "                You can enter a point of interest (latitude and longitude) in the form provided,\n",
    "                or click on the map to select a point.\n",
    "                You can also select a date of interest using the date slider,\n",
    "                or by clicking on the time series plot.\n",
    "                \n",
    "                The map next to the point of interest controls is shown in the web mercator projection.\n",
    "                However, this collection is in the EPSG:{self.dataset.crs.to_epsg()} coordinate reference system,\n",
    "                and is plotted in that projection below.\n",
    "                \"\"\"\n",
    "            ))\n",
    "            elements.append(self.dataset)\n",
    "            elements.append(self.dataset.download_buttons())\n",
    "\n",
    "        return pn.Column(\n",
    "            *elements,\n",
    "        )\n",
    "    \n",
    "    @param.depends(\"site\", \"collection\", \"point_of_interest\", \"dataset\", watch=False)\n",
    "    def sidebar(self) -> pn.Column:\n",
    "        \"\"\"content to render in the sidebar of a template\"\"\"\n",
    "        elements = []\n",
    "\n",
    "        if self.site is None:\n",
    "            elements.append(pn.pane.Alert(\"Site not found\", alert_type=\"danger\"))\n",
    "        elif self.collection is None:\n",
    "            elements.append(pn.pane.Alert(\"Collection not found\", alert_type=\"danger\"))\n",
    "        elif self.point_of_interest is None:\n",
    "            # should be unreachable\n",
    "            elements.append(pn.pane.Alert(\"Point of interest not found\", alert_type=\"danger\"))\n",
    "        elif self.dataset is None:\n",
    "            # should be unreachable\n",
    "            elements.append(pn.pane.Alert(\"Dataset not found\", alert_type=\"danger\"))\n",
    "        else:\n",
    "            elements.append(self.point_of_interest)\n",
    "            elements.append(self.dataset.widgets())\n",
    "\n",
    "        return pn.Column(*elements)"
   ]
  },
  {
   "cell_type": "code",
   "execution_count": null,
   "id": "3",
   "metadata": {},
   "outputs": [],
   "source": [
    "page = Page()"
   ]
  },
  {
   "cell_type": "code",
   "execution_count": null,
   "id": "4",
   "metadata": {},
   "outputs": [],
   "source": [
    "# In a notebook environment pn.state.location is not initialized until the first plot has been displayed\n",
    "\n",
    "pn.state.location.sync(page, {\"site_id\": \"site-id\", \"collection_id\": \"collection-id\"})  # type: ignore"
   ]
  },
  {
   "cell_type": "code",
   "execution_count": null,
   "id": "5",
   "metadata": {},
   "outputs": [],
   "source": [
    "template = utils.template.get_template(main=page.main, sidebar=page.sidebar)\n",
    "template.servable();"
   ]
  }
 ],
 "metadata": {
  "kernelspec": {
   "display_name": "wpl-notebooks",
   "language": "python",
   "name": "python3"
  },
  "language_info": {
   "codemirror_mode": {
    "name": "ipython",
    "version": 3
   },
   "file_extension": ".py",
   "mimetype": "text/x-python",
   "name": "python",
   "nbconvert_exporter": "python",
   "pygments_lexer": "ipython3",
   "version": "3.13.3"
  }
 },
 "nbformat": 4,
 "nbformat_minor": 5
}
