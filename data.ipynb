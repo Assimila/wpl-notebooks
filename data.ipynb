{
 "cells": [
  {
   "cell_type": "markdown",
   "id": "0",
   "metadata": {},
   "source": [
    "This is a page for exploring a single STAC collection"
   ]
  },
  {
   "cell_type": "code",
   "execution_count": null,
   "id": "1",
   "metadata": {},
   "outputs": [],
   "source": [
    "import geoviews as gv\n",
    "import panel as pn\n",
    "import pystac\n",
    "\n",
    "import utils.cards\n",
    "import utils.location\n",
    "import utils.template\n",
    "import utils.xyt\n",
    "import utils.zarr\n",
    "\n",
    "pn.extension()\n",
    "gv.extension(\"bokeh\")"
   ]
  },
  {
   "cell_type": "code",
   "execution_count": null,
   "id": "2",
   "metadata": {},
   "outputs": [],
   "source": [
    "query_params = utils.location.UrlQueryParams()"
   ]
  },
  {
   "cell_type": "code",
   "execution_count": null,
   "id": "3",
   "metadata": {},
   "outputs": [],
   "source": [
    "# In a notebook environment pn.state.location is not initialized until the first plot has been displayed\n",
    "\n",
    "pn.state.location.sync(query_params, {\"site_id\": \"site-id\", \"collection_id\": \"collection-id\"})  # type: ignore"
   ]
  },
  {
   "cell_type": "code",
   "execution_count": null,
   "id": "4",
   "metadata": {},
   "outputs": [],
   "source": [
    "\n",
    "\n",
    "def get_collection_content(collection: pystac.Collection):\n",
    "    extent = utils.xyt.Extent.from_pystac(collection.extent)\n",
    "    xyt = utils.xyt.XYT(extent=extent)\n",
    "    obj = utils.zarr.ZarrDataset.from_pystac(xyt, collection)\n",
    "    crs_txt = pn.pane.Markdown(\n",
    "        f\"\"\"\n",
    "        The controls below allow you to explore this datacube in time and space.\n",
    "        You can enter a point of interest (latitude and longitude) in the form provided,\n",
    "        or click on the map to select a point.\n",
    "        You can also select a date of interest using the date slider,\n",
    "        or by clicking on the time series plot.\n",
    "        \n",
    "        The map next to the point of interest controls is shown in the web mercator projection.\n",
    "        However, this collection is in the EPSG:{obj.crs.to_epsg()} coordinate reference system,\n",
    "        and is plotted in that projection below.\n",
    "        \"\"\"\n",
    "    )\n",
    "    return [crs_txt, xyt, obj]"
   ]
  },
  {
   "cell_type": "code",
   "execution_count": null,
   "id": "5",
   "metadata": {},
   "outputs": [],
   "source": [
    "def get_content(site: pystac.Catalog | None, collection: pystac.Collection | None) -> pn.Column:\n",
    "    elements = []\n",
    "\n",
    "    if site is None:\n",
    "        elements.append(\"Site not found\")\n",
    "    elif collection is None:\n",
    "        elements.append(\"Collection not found\")\n",
    "    else:\n",
    "        site_name = site.title or site.id\n",
    "        collection_name = collection.title or collection.id\n",
    "        elements.append(\n",
    "            pn.pane.Markdown(\n",
    "                f\"\"\"\n",
    "                # Data explorer\n",
    "\n",
    "                On this page you can interactively explore our data collection {collection_name}\n",
    "                for the site {site_name}.\n",
    "                \"\"\"\n",
    "            )\n",
    "        )\n",
    "        elements.append(pn.pane.Markdown(\"## Site\"))\n",
    "        elements.append(utils.cards.site(site, collapsed=True))\n",
    "        elements.append(pn.pane.Markdown(\"## Collection\"))\n",
    "        elements.append(utils.cards.collection(site, collection, collapsed=True))\n",
    "        elements.append(pn.pane.Markdown(\"## Data\"))\n",
    "        elements.extend(get_collection_content(collection))\n",
    "\n",
    "    return pn.Column(\n",
    "        *elements,\n",
    "        align=(\"start\", \"center\"),\n",
    "        min_width=400,\n",
    "        max_width=1200,\n",
    "        sizing_mode=\"stretch_width\",\n",
    "    )"
   ]
  },
  {
   "cell_type": "code",
   "execution_count": null,
   "id": "6",
   "metadata": {},
   "outputs": [],
   "source": [
    "content = pn.bind(\n",
    "    get_content,\n",
    "    site=query_params.param.site,\n",
    "    collection=query_params.param.collection,\n",
    ")"
   ]
  },
  {
   "cell_type": "code",
   "execution_count": null,
   "id": "7",
   "metadata": {},
   "outputs": [],
   "source": [
    "template = utils.template.get_template(content)\n",
    "template.servable();"
   ]
  }
 ],
 "metadata": {
  "kernelspec": {
   "display_name": "wpl-notebooks",
   "language": "python",
   "name": "python3"
  },
  "language_info": {
   "codemirror_mode": {
    "name": "ipython",
    "version": 3
   },
   "file_extension": ".py",
   "mimetype": "text/x-python",
   "name": "python",
   "nbconvert_exporter": "python",
   "pygments_lexer": "ipython3",
   "version": "3.13.3"
  }
 },
 "nbformat": 4,
 "nbformat_minor": 5
}
