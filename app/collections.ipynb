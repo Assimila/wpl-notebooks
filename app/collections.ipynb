{
 "cells": [
  {
   "cell_type": "markdown",
   "id": "0",
   "metadata": {},
   "source": [
    "This is a page for exploring the STAC collections available for a given site (sub-catalog)"
   ]
  },
  {
   "cell_type": "code",
   "execution_count": null,
   "id": "1",
   "metadata": {},
   "outputs": [],
   "source": [
    "from operator import attrgetter\n",
    "\n",
    "import panel as pn\n",
    "import param\n",
    "\n",
    "import utils.cards\n",
    "import utils.location\n",
    "import utils.template\n",
    "import utils.utils\n",
    "\n",
    "pn.extension(loading_indicator=True, defer_load=True)"
   ]
  },
  {
   "cell_type": "code",
   "execution_count": null,
   "id": "2",
   "metadata": {},
   "outputs": [],
   "source": [
    "class Page(utils.location.UrlQueryParams):\n",
    "    @param.depends(\"site\", watch=False)\n",
    "    def get_collection_cards(self) -> list:\n",
    "        if self.site is None:\n",
    "            return [\"No collections found\"]\n",
    "        collections = utils.utils.get_collections(self.site)\n",
    "        collections = sorted(collections, key=attrgetter(\"title\", \"id\"))\n",
    "        return [utils.cards.collection(self.site, c, with_links=True, collapsed=True) for c in collections]\n",
    "\n",
    "    @param.depends(\"site\", watch=False)\n",
    "    def main(self) -> pn.Column:\n",
    "        \"\"\"content to render in the main area of a template\"\"\"\n",
    "        elements = []\n",
    "\n",
    "        if self.site is None:\n",
    "            elements.append(pn.pane.Alert(\"Site not found\", alert_type=\"danger\"))\n",
    "        else:\n",
    "            site_name = self.site.title or self.site.id\n",
    "            elements.append(\n",
    "                pn.pane.Markdown(\n",
    "                    f\"\"\"\n",
    "                    # Collections\n",
    "\n",
    "                    On this page you can discover the data collections available for the site {site_name}.\n",
    "                    Each collection contains a specific type of data related to peat health,\n",
    "                    such as multi-year timeseries of biogeophysical, hydrological, and surface motion variables.\n",
    "\n",
    "                    Check out one of the collections below to explore the data.\n",
    "                    \"\"\"\n",
    "                )\n",
    "            )\n",
    "            elements.append(pn.pane.Markdown(\"## Site\"))\n",
    "            elements.append(utils.cards.site(self.site, collapsed=True))\n",
    "            elements.append(pn.pane.Markdown(\"## Data collections\"))\n",
    "            elements.extend(self.get_collection_cards())  # type: ignore\n",
    "\n",
    "        return pn.Column(\n",
    "            *elements,\n",
    "            align=(\"start\", \"center\"),\n",
    "            min_width=400,\n",
    "            max_width=1200,\n",
    "            sizing_mode=\"stretch_width\",\n",
    "        )\n"
   ]
  },
  {
   "cell_type": "code",
   "execution_count": null,
   "id": "3",
   "metadata": {},
   "outputs": [],
   "source": [
    "page = Page()"
   ]
  },
  {
   "cell_type": "code",
   "execution_count": null,
   "id": "4",
   "metadata": {},
   "outputs": [],
   "source": [
    "# In a notebook environment pn.state.location is not initialized until the first plot has been displayed\n",
    "\n",
    "pn.state.location.sync(page, {\"site_id\": \"site-id\"})  # type: ignore"
   ]
  },
  {
   "cell_type": "code",
   "execution_count": null,
   "id": "5",
   "metadata": {},
   "outputs": [],
   "source": [
    "template = utils.template.get_template(main=page.main)\n",
    "template.servable();"
   ]
  }
 ],
 "metadata": {
  "kernelspec": {
   "display_name": "wpl-notebooks",
   "language": "python",
   "name": "python3"
  },
  "language_info": {
   "codemirror_mode": {
    "name": "ipython",
    "version": 3
   },
   "file_extension": ".py",
   "mimetype": "text/x-python",
   "name": "python",
   "nbconvert_exporter": "python",
   "pygments_lexer": "ipython3",
   "version": "3.13.3"
  }
 },
 "nbformat": 4,
 "nbformat_minor": 5
}
