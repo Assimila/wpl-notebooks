{
 "cells": [
  {
   "cell_type": "markdown",
   "id": "0",
   "metadata": {},
   "source": [
    "This is a page for listing the peat health indicators for a given site"
   ]
  },
  {
   "cell_type": "code",
   "execution_count": null,
   "id": "1",
   "metadata": {},
   "outputs": [],
   "source": [
    "import panel as pn\n",
    "import param\n",
    "\n",
    "import utils.cards\n",
    "import utils.location\n",
    "import utils.peat_health_indicators.models\n",
    "import utils.peat_health_indicators.phi\n",
    "import utils.template\n",
    "import utils.utils\n",
    "\n",
    "pn.extension(loading_indicator=True, defer_load=True)"
   ]
  },
  {
   "cell_type": "code",
   "execution_count": null,
   "id": "2",
   "metadata": {},
   "outputs": [],
   "source": [
    "def get_card_for_phi(directory: str) -> pn.Card:\n",
    "    \"\"\"Get a card for the given site level peat health indicator (PHI).\"\"\"\n",
    "\n",
    "    phi = utils.peat_health_indicators.phi.DailyPHI.from_directory(directory)\n",
    "\n",
    "    daily_phi = utils.utils.get_url(\n",
    "        \"daily-phi\",\n",
    "        {\"site-id\": phi.site_id, \"indicator-id\": phi.name},\n",
    "    )\n",
    "    annual_phi = utils.utils.get_url(\n",
    "        \"annual-phi\",\n",
    "        {\"site-id\": phi.site_id, \"indicator-id\": phi.name},\n",
    "    )\n",
    "\n",
    "    return pn.Card(\n",
    "        objects=[\n",
    "            pn.pane.HoloViews(\n",
    "                phi.map(),\n",
    "                width=600,\n",
    "                height=500,\n",
    "            ),\n",
    "            pn.pane.Markdown(phi.description),\n",
    "            pn.pane.Markdown(\n",
    "                f\"\"\"\n",
    "                🔗 [Explore daily peat health indicators]({daily_phi}) or\n",
    "                🔗 [Explore annual peat health indicators]({annual_phi})\n",
    "                \"\"\"\n",
    "            ),\n",
    "        ],\n",
    "        collapsed=True,\n",
    "        title=phi.name,\n",
    "        sizing_mode=\"stretch_width\",\n",
    "    )"
   ]
  },
  {
   "cell_type": "code",
   "execution_count": null,
   "id": "3",
   "metadata": {},
   "outputs": [],
   "source": [
    "class Page(utils.location.UrlQueryParams):\n",
    "    @param.depends(\"site\", watch=False)\n",
    "    def get_phi_cards(self) -> list:\n",
    "        if self.site is None:\n",
    "            return [\"No indicators found\"]\n",
    "\n",
    "        # mapping from site-id -> extent name -> subdirectory\n",
    "        sites = utils.peat_health_indicators.models.all_site_level_peat_health_indicators()\n",
    "\n",
    "        # mapping from extent name -> subdirectory\n",
    "        extents = sites.get(self.site.id, {})\n",
    "\n",
    "        return [get_card_for_phi(directory) for directory in extents.values()]\n",
    "\n",
    "    @param.depends(\"site\", watch=False)\n",
    "    def main(self) -> pn.Column:\n",
    "        \"\"\"content to render in the main area of a template\"\"\"\n",
    "        elements = []\n",
    "\n",
    "        if self.site is None:\n",
    "            elements.append(pn.pane.Alert(\"Site not found\", alert_type=\"danger\"))\n",
    "        else:\n",
    "            site_name = self.site.title or self.site.id\n",
    "            elements.append(\n",
    "                pn.pane.Markdown(\n",
    "                    f\"\"\"\n",
    "                    # Peat health indicators\n",
    "\n",
    "                    On this page you can discover the peat health indicators for the site {site_name}.\n",
    "\n",
    "                    Each of the data products below is based on a specific peat extent map or area of interest,\n",
    "                    over which site-level peat health indicators are generated,\n",
    "                    at both daily and annual time steps.\n",
    "\n",
    "                    Check out one of the data products below to explore the peat health indicators.\n",
    "                    \"\"\"\n",
    "                )\n",
    "            )\n",
    "            elements.append(pn.pane.Markdown(\"## Site\"))\n",
    "            elements.append(utils.cards.site(self.site, collapsed=True))\n",
    "            elements.append(pn.pane.Markdown(\"## Data products\"))\n",
    "            cards = self.get_phi_cards()  # type: ignore\n",
    "            if len(cards) == 0:\n",
    "                elements.append(pn.pane.Alert(\"No peat health indicators available\", alert_type=\"info\"))\n",
    "            else:\n",
    "                elements.extend(cards)\n",
    "\n",
    "        return pn.Column(\n",
    "            *elements,\n",
    "            align=(\"start\", \"center\"),\n",
    "            min_width=400,\n",
    "            max_width=1200,\n",
    "            sizing_mode=\"stretch_width\",\n",
    "        )\n"
   ]
  },
  {
   "cell_type": "code",
   "execution_count": null,
   "id": "4",
   "metadata": {},
   "outputs": [],
   "source": [
    "page = Page()"
   ]
  },
  {
   "cell_type": "code",
   "execution_count": null,
   "id": "5",
   "metadata": {},
   "outputs": [],
   "source": [
    "# In a notebook environment pn.state.location is not initialized until the first plot has been displayed\n",
    "\n",
    "pn.state.location.sync(page, {\"site_id\": \"site-id\"})  # type: ignore"
   ]
  },
  {
   "cell_type": "code",
   "execution_count": null,
   "id": "6",
   "metadata": {},
   "outputs": [],
   "source": [
    "template = utils.template.get_template(main=page.main)\n",
    "template.servable();"
   ]
  }
 ],
 "metadata": {
  "kernelspec": {
   "display_name": "wpl-notebooks",
   "language": "python",
   "name": "python3"
  },
  "language_info": {
   "codemirror_mode": {
    "name": "ipython",
    "version": 3
   },
   "file_extension": ".py",
   "mimetype": "text/x-python",
   "name": "python",
   "nbconvert_exporter": "python",
   "pygments_lexer": "ipython3",
   "version": "3.13.5"
  }
 },
 "nbformat": 4,
 "nbformat_minor": 5
}
