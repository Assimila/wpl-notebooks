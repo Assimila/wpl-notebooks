{
 "cells": [
  {
   "cell_type": "markdown",
   "id": "0",
   "metadata": {},
   "source": [
    "This is the index panel app / page which displays the root STAC catalog,\n",
    "and the site sub catalogs."
   ]
  },
  {
   "cell_type": "code",
   "execution_count": null,
   "id": "1",
   "metadata": {},
   "outputs": [],
   "source": [
    "import panel as pn\n",
    "\n",
    "import utils.cards\n",
    "import utils.template\n",
    "import utils.utils\n",
    "\n",
    "pn.extension()"
   ]
  },
  {
   "cell_type": "code",
   "execution_count": null,
   "id": "2",
   "metadata": {},
   "outputs": [],
   "source": [
    "root_catalog = utils.utils.get_root_catalog()\n",
    "sites = utils.utils.get_sub_catalogs(root_catalog)"
   ]
  },
  {
   "cell_type": "code",
   "execution_count": null,
   "id": "3",
   "metadata": {},
   "outputs": [],
   "source": [
    "content = pn.Column(\n",
    "    pn.pane.Markdown(\n",
    "        \"\"\"\n",
    "        # Welcome to the WorldPeatland Dashboard\n",
    "\n",
    "        On this page you can discover the WorldPeatland SpatioTemporal Asset Catalog\n",
    "        ([STAC](https://stacspec.org/)),\n",
    "        which contains many datasets related to peatland health.\n",
    "        Including multi-year timeseries of biogeophysical, hydrological, and surface motion variables.\n",
    "        \n",
    "        The catalog is organised by sites, which are peatland areas of interest.\n",
    "        Each site has its own sub-catalog containing collections of data relevant to that area.\n",
    "\n",
    "        Check out one of the sites below to explore the data.\n",
    "        \"\"\"\n",
    "    ),\n",
    "    utils.cards.root(root_catalog),\n",
    "    pn.pane.Markdown(\"# Sites\"),\n",
    "    *(utils.cards.site(site, with_links=True, collapsed=True) for site in sites),\n",
    ")"
   ]
  },
  {
   "cell_type": "code",
   "execution_count": null,
   "id": "4",
   "metadata": {},
   "outputs": [],
   "source": [
    "# fix for https://github.com/holoviz/panel/issues/5070\n",
    "# content.styles[\"margin-left\"] = \"auto\"  # type: ignore\n",
    "# content.styles[\"margin-right\"] = \"auto\"  # type: ignore"
   ]
  },
  {
   "cell_type": "code",
   "execution_count": null,
   "id": "5",
   "metadata": {},
   "outputs": [],
   "source": [
    "template = utils.template.get_template(main=content)\n",
    "template.servable();"
   ]
  }
 ],
 "metadata": {
  "kernelspec": {
   "display_name": "wpl-notebooks",
   "language": "python",
   "name": "python3"
  },
  "language_info": {
   "codemirror_mode": {
    "name": "ipython",
    "version": 3
   },
   "file_extension": ".py",
   "mimetype": "text/x-python",
   "name": "python",
   "nbconvert_exporter": "python",
   "pygments_lexer": "ipython3",
   "version": "3.13.3"
  }
 },
 "nbformat": 4,
 "nbformat_minor": 5
}
