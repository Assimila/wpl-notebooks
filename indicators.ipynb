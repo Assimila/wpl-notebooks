{
 "cells": [
  {
   "cell_type": "markdown",
   "id": "0",
   "metadata": {},
   "source": [
    "This is a page for exploring the peat health indicators for a given site"
   ]
  },
  {
   "cell_type": "code",
   "execution_count": null,
   "id": "1",
   "metadata": {},
   "outputs": [],
   "source": [
    "import panel as pn\n",
    "import pystac\n",
    "\n",
    "import utils.cards\n",
    "import utils.location\n",
    "import utils.template\n",
    "\n",
    "pn.extension()"
   ]
  },
  {
   "cell_type": "code",
   "execution_count": null,
   "id": "2",
   "metadata": {},
   "outputs": [],
   "source": [
    "query_params = utils.location.UrlQueryParams()"
   ]
  },
  {
   "cell_type": "code",
   "execution_count": null,
   "id": "3",
   "metadata": {},
   "outputs": [],
   "source": [
    "# In a notebook environment pn.state.location is not initialized until the first plot has been displayed\n",
    "\n",
    "pn.state.location.sync(query_params, {\"site_id\": \"site-id\", \"collection_id\": \"collection-id\"})  # type: ignore"
   ]
  },
  {
   "cell_type": "code",
   "execution_count": null,
   "id": "4",
   "metadata": {},
   "outputs": [],
   "source": [
    "def get_content(site: pystac.Catalog | None) -> pn.Column:\n",
    "    elements = []\n",
    "\n",
    "    if site is None:\n",
    "        elements.append(\"Site not found\")\n",
    "    else:\n",
    "        site_name = site.title or site.id\n",
    "        elements.append(\n",
    "            pn.pane.Markdown(\n",
    "                f\"\"\"\n",
    "                # Peat health indicators\n",
    "\n",
    "                On this page we present our peat health indicators and methodology for the site {site_name}.\n",
    "                \"\"\"\n",
    "            )\n",
    "        )\n",
    "        elements.append(utils.cards.site(site, collapsed=True))\n",
    "        elements.append(pn.pane.Markdown(\"# 🚧 Under Construction 🚧\"))  # TODO\n",
    "\n",
    "    return pn.Column(\n",
    "        *elements,\n",
    "        align=(\"start\", \"center\"),\n",
    "        min_width=400,\n",
    "        max_width=1200,\n",
    "        sizing_mode=\"stretch_width\",\n",
    "    )"
   ]
  },
  {
   "cell_type": "code",
   "execution_count": null,
   "id": "5",
   "metadata": {},
   "outputs": [],
   "source": [
    "content = pn.bind(\n",
    "    get_content,\n",
    "    site=query_params.param.site,\n",
    ")"
   ]
  },
  {
   "cell_type": "code",
   "execution_count": null,
   "id": "6",
   "metadata": {},
   "outputs": [],
   "source": [
    "template = utils.template.get_template(content)\n",
    "template.servable();"
   ]
  }
 ],
 "metadata": {
  "kernelspec": {
   "display_name": "wpl-notebooks",
   "language": "python",
   "name": "python3"
  },
  "language_info": {
   "codemirror_mode": {
    "name": "ipython",
    "version": 3
   },
   "file_extension": ".py",
   "mimetype": "text/x-python",
   "name": "python",
   "nbconvert_exporter": "python",
   "pygments_lexer": "ipython3",
   "version": "3.13.3"
  }
 },
 "nbformat": 4,
 "nbformat_minor": 5
}
