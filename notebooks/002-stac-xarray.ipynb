{
 "cells": [
  {
   "cell_type": "markdown",
   "metadata": {},
   "source": [
    "This notebook demonstrates how to traverse the WorldPeatland \n",
    "[SpatioTemporal Asset Catalog (STAC)](https://stacspec.org/) \n",
    "with [pystac](https://pystac.readthedocs.io/en/stable/).\n",
    "\n",
    "Then open a Zarr dataset (STAC Asset) with xarray."
   ]
  },
  {
   "cell_type": "markdown",
   "metadata": {},
   "source": [
    "The WorldPeatland STAC has the following structure:\n",
    "\n",
    "```mermaid\n",
    "erDiagram\n",
    "    \"Root catalog\" ||--|{ \"Site catalog\" : \"\"\n",
    "    \"Site catalog\" ||--o{ \"Collection (zarr)\" : \"\"\n",
    "    \"Collection (zarr)\" ||--|{ \"Asset (zarr)\" : \"\"\n",
    "    \"Site catalog\" ||--o{ \"Collection (cog)\" : \"\"\n",
    "    \"Collection (cog)\" ||--|| \"Item\" : \"\"\n",
    "    \"Item\" ||--|{ \"Asset\" : \"\"\n",
    "```"
   ]
  },
  {
   "cell_type": "code",
   "execution_count": null,
   "metadata": {},
   "outputs": [],
   "source": [
    "CATALOG_URL = \"https://s3.waw3-2.cloudferro.com/swift/v1/wpl-stac/stac/catalog.json\""
   ]
  },
  {
   "cell_type": "code",
   "execution_count": null,
   "metadata": {},
   "outputs": [],
   "source": [
    "import pystac"
   ]
  },
  {
   "cell_type": "code",
   "execution_count": null,
   "metadata": {},
   "outputs": [],
   "source": [
    "root: pystac.Catalog = pystac.read_file(CATALOG_URL)  # type: ignore\n",
    "root"
   ]
  },
  {
   "cell_type": "code",
   "execution_count": null,
   "metadata": {},
   "outputs": [],
   "source": [
    "# get the sub-catalog for Degero\n",
    "catalog: pystac.Catalog = root.get_child(\"degero\")  # type: ignore"
   ]
  },
  {
   "cell_type": "markdown",
   "metadata": {},
   "source": [
    "The Albedo collection has 2 assets which are direct children of the collection.\n",
    "\n",
    "These assets are zarr datacubes, one optimized for spatial queries and the other for temporal queries."
   ]
  },
  {
   "cell_type": "code",
   "execution_count": null,
   "metadata": {},
   "outputs": [],
   "source": [
    "# get the collection for Albedo\n",
    "collection: pystac.Collection = catalog.get_child(\"albedo\")  # type: ignore"
   ]
  },
  {
   "cell_type": "code",
   "execution_count": null,
   "metadata": {},
   "outputs": [],
   "source": [
    "# how many assets are defined as direct children of the collection?\n",
    "assets = collection.assets.values()\n",
    "for asset in assets:\n",
    "    display(asset)"
   ]
  },
  {
   "cell_type": "markdown",
   "metadata": {},
   "source": [
    "Open one of the Zarr datasets (STAC Asset) with xarray."
   ]
  },
  {
   "cell_type": "code",
   "execution_count": null,
   "metadata": {},
   "outputs": [],
   "source": [
    "import rioxarray  # noqa: F401\n",
    "import xarray as xr"
   ]
  },
  {
   "cell_type": "code",
   "execution_count": null,
   "metadata": {},
   "outputs": [],
   "source": [
    "# this dataset is chunked for spatial reads\n",
    "asset = collection.assets[\"albedo.xy.zarr\"]"
   ]
  },
  {
   "cell_type": "code",
   "execution_count": null,
   "metadata": {},
   "outputs": [],
   "source": [
    "# STAC extension \"xarray Assets\" provides keyword arguments\n",
    "asset.ext.xarray.open_kwargs"
   ]
  },
  {
   "cell_type": "code",
   "execution_count": null,
   "metadata": {},
   "outputs": [],
   "source": [
    "ds = xr.open_dataset(\n",
    "    asset.href,\n",
    "    **asset.ext.xarray.open_kwargs,  # type: ignore\n",
    ")"
   ]
  },
  {
   "cell_type": "code",
   "execution_count": null,
   "metadata": {},
   "outputs": [],
   "source": [
    "ds"
   ]
  }
 ],
 "metadata": {
  "kernelspec": {
   "display_name": "wpl-notebooks",
   "language": "python",
   "name": "python3"
  },
  "language_info": {
   "codemirror_mode": {
    "name": "ipython",
    "version": 3
   },
   "file_extension": ".py",
   "mimetype": "text/x-python",
   "name": "python",
   "nbconvert_exporter": "python",
   "pygments_lexer": "ipython3",
   "version": "3.13.5"
  }
 },
 "nbformat": 4,
 "nbformat_minor": 2
}
