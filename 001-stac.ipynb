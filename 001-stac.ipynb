{
 "cells": [
  {
   "cell_type": "markdown",
   "metadata": {},
   "source": [
    "This notebook demonstrates how to explore the WorldPeatland \n",
    "[SpatioTemporal Asset Catalog (STAC)](https://stacspec.org/) \n",
    "with [pystac](https://pystac.readthedocs.io/en/stable/)."
   ]
  },
  {
   "cell_type": "markdown",
   "metadata": {},
   "source": [
    "The WorldPeatland STAC has the following structure:\n",
    "\n",
    "```mermaid\n",
    "erDiagram\n",
    "    \"Root catalog\" ||--|{ \"Site catalog\" : \"\"\n",
    "    \"Site catalog\" ||--o{ \"Collection (zarr)\" : \"\"\n",
    "    \"Collection (zarr)\" ||--|{ \"Asset (zarr)\" : \"\"\n",
    "    \"Site catalog\" ||--o{ \"Collection (cog)\" : \"\"\n",
    "    \"Collection (cog)\" ||--|| \"Item\" : \"\"\n",
    "    \"Item\" ||--|{ \"Asset\" : \"\"\n",
    "```"
   ]
  },
  {
   "cell_type": "code",
   "execution_count": null,
   "metadata": {},
   "outputs": [],
   "source": [
    "CATALOG_URL = \"https://s3.waw3-2.cloudferro.com/swift/v1/wpl-stac/stac/catalog.json\""
   ]
  },
  {
   "cell_type": "code",
   "execution_count": null,
   "metadata": {},
   "outputs": [],
   "source": [
    "import pystac\n",
    "from IPython.display import Markdown, Image"
   ]
  },
  {
   "cell_type": "code",
   "execution_count": null,
   "metadata": {},
   "outputs": [],
   "source": [
    "root: pystac.Catalog = pystac.read_file(CATALOG_URL)  # type: ignore\n",
    "root"
   ]
  },
  {
   "cell_type": "code",
   "execution_count": null,
   "metadata": {},
   "outputs": [],
   "source": [
    "# description is markdown\n",
    "Markdown(root.description)"
   ]
  },
  {
   "cell_type": "code",
   "execution_count": null,
   "metadata": {},
   "outputs": [],
   "source": [
    "# list site sub-catalogs\n",
    "sub_catalogs = [\n",
    "    obj\n",
    "    for obj in root.get_children()\n",
    "    if obj.STAC_OBJECT_TYPE == pystac.STACObjectType.CATALOG\n",
    "]\n",
    "for catalog in sub_catalogs:\n",
    "    display(catalog)"
   ]
  },
  {
   "cell_type": "code",
   "execution_count": null,
   "metadata": {},
   "outputs": [],
   "source": [
    "# get the sub-catalog for Degero\n",
    "catalog: pystac.Catalog = root.get_child(\"degero\")  # type: ignore"
   ]
  },
  {
   "cell_type": "code",
   "execution_count": null,
   "metadata": {},
   "outputs": [],
   "source": [
    "# description is markdown\n",
    "Markdown(catalog.description)"
   ]
  },
  {
   "cell_type": "code",
   "execution_count": null,
   "metadata": {},
   "outputs": [],
   "source": [
    "# list all collections in the catalog\n",
    "collections = catalog.get_collections()\n",
    "for collection in collections:\n",
    "    display(collection)"
   ]
  },
  {
   "cell_type": "markdown",
   "metadata": {},
   "source": [
    "The Albedo collection has 2 assets which are direct children of the collection.\n",
    "\n",
    "These assets are zarr datacubes, one optimized for spatial queries and the other for temporal queries."
   ]
  },
  {
   "cell_type": "code",
   "execution_count": null,
   "metadata": {},
   "outputs": [],
   "source": [
    "# get the collection for Albedo\n",
    "collection: pystac.Collection = catalog.get_child(\"albedo\")  # type: ignore"
   ]
  },
  {
   "cell_type": "code",
   "execution_count": null,
   "metadata": {},
   "outputs": [],
   "source": [
    "# description is markdown\n",
    "Markdown(collection.description)"
   ]
  },
  {
   "cell_type": "code",
   "execution_count": null,
   "metadata": {},
   "outputs": [],
   "source": [
    "# how many assets are defined as direct children of the collection?\n",
    "assets = collection.assets.values()\n",
    "for asset in assets:\n",
    "    display(asset)"
   ]
  },
  {
   "cell_type": "code",
   "execution_count": null,
   "metadata": {},
   "outputs": [],
   "source": [
    "# how many items are in the collection?\n",
    "items = list(collection.get_items())\n",
    "for item in items:\n",
    "    display(item)"
   ]
  },
  {
   "cell_type": "markdown",
   "metadata": {},
   "source": [
    "The water level trends collection has 1 item, which has a few assets.\n",
    "\n",
    "These assets are primarily cloud optimized geotiffs."
   ]
  },
  {
   "cell_type": "code",
   "execution_count": null,
   "metadata": {},
   "outputs": [],
   "source": [
    "# get the collection for trends in water level\n",
    "collection: pystac.Collection = catalog.get_child(\"water-level-trend\")  # type: ignore"
   ]
  },
  {
   "cell_type": "code",
   "execution_count": null,
   "metadata": {},
   "outputs": [],
   "source": [
    "# description is markdown\n",
    "Markdown(collection.description)"
   ]
  },
  {
   "cell_type": "code",
   "execution_count": null,
   "metadata": {},
   "outputs": [],
   "source": [
    "# how many assets are defined as direct children of the collection?\n",
    "assets = collection.assets.values()\n",
    "for asset in assets:\n",
    "    display(asset)"
   ]
  },
  {
   "cell_type": "code",
   "execution_count": null,
   "metadata": {},
   "outputs": [],
   "source": [
    "# how many items are in the collection?\n",
    "items = list(collection.get_items())\n",
    "for item in items:\n",
    "    display(item)"
   ]
  },
  {
   "cell_type": "code",
   "execution_count": null,
   "metadata": {},
   "outputs": [],
   "source": [
    "# extract single item\n",
    "[item] = items"
   ]
  },
  {
   "cell_type": "code",
   "execution_count": null,
   "metadata": {},
   "outputs": [],
   "source": [
    "# how many assets does the item have?\n",
    "assets = item.assets.values()\n",
    "for asset in assets:\n",
    "    display(asset)"
   ]
  },
  {
   "cell_type": "code",
   "execution_count": null,
   "metadata": {},
   "outputs": [],
   "source": [
    "# display the thumbnail\n",
    "thumbnail = item.assets.get(\"thumbnail\")\n",
    "if thumbnail:\n",
    "    display(Image(url=thumbnail.href))"
   ]
  },
  {
   "cell_type": "code",
   "execution_count": null,
   "metadata": {},
   "outputs": [],
   "source": []
  }
 ],
 "metadata": {
  "kernelspec": {
   "display_name": "wpl-notebooks",
   "language": "python",
   "name": "python3"
  },
  "language_info": {
   "codemirror_mode": {
    "name": "ipython",
    "version": 3
   },
   "file_extension": ".py",
   "mimetype": "text/x-python",
   "name": "python",
   "nbconvert_exporter": "python",
   "pygments_lexer": "ipython3",
   "version": "3.13.3"
  }
 },
 "nbformat": 4,
 "nbformat_minor": 2
}
