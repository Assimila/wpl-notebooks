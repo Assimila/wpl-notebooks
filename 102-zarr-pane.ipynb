{
 "cells": [
  {
   "cell_type": "code",
   "execution_count": null,
   "id": "0",
   "metadata": {},
   "outputs": [],
   "source": [
    "import pprint\n",
    "\n",
    "import geoviews as gv\n",
    "import panel as pn\n",
    "import param\n",
    "import pystac\n",
    "import rioxarray  # noqa: F401\n",
    "import xarray as xr\n",
    "from holoviews.plotting import list_cmaps\n",
    "\n",
    "import utils.xyt\n",
    "\n",
    "pn.extension()\n",
    "gv.extension(\"bokeh\")"
   ]
  },
  {
   "cell_type": "code",
   "execution_count": null,
   "id": "1",
   "metadata": {},
   "outputs": [],
   "source": [
    "CATALOG_URL = \"https://s3.waw3-2.cloudferro.com/swift/v1/wpl-stac/stac/catalog.json\"\n",
    "SITE = \"degero\"\n",
    "COLLECTION = \"albedo\""
   ]
  },
  {
   "cell_type": "code",
   "execution_count": null,
   "id": "2",
   "metadata": {},
   "outputs": [],
   "source": [
    "root: pystac.Catalog = pystac.read_file(CATALOG_URL)  # type: ignore\n",
    "catalog: pystac.Catalog = root.get_child(SITE)  # type: ignore\n",
    "collection: pystac.Collection = catalog.get_child(COLLECTION)  # type: ignore"
   ]
  },
  {
   "cell_type": "code",
   "execution_count": null,
   "id": "3",
   "metadata": {},
   "outputs": [],
   "source": [
    "extent = utils.xyt.Extent.from_pystac(collection.extent)"
   ]
  },
  {
   "cell_type": "code",
   "execution_count": null,
   "id": "4",
   "metadata": {},
   "outputs": [],
   "source": [
    "xyt = utils.xyt.XYT(extent=extent)"
   ]
  },
  {
   "cell_type": "code",
   "execution_count": null,
   "id": "5",
   "metadata": {},
   "outputs": [],
   "source": [
    "# this is a custom field which provides some default visualization parameters for the zarr datacube\n",
    "wpl_render = collection.extra_fields[\"wpl:render\"]\n",
    "pprint.pprint(wpl_render)"
   ]
  },
  {
   "cell_type": "code",
   "execution_count": null,
   "id": "6",
   "metadata": {},
   "outputs": [],
   "source": [
    "class ZarrDataset(param.Parameterized):\n",
    "    parent: utils.xyt.XYT = param.ClassSelector(\n",
    "        class_=utils.xyt.XYT, label=\"Parent control\", allow_None=False, constant=True\n",
    "    )  # type: ignore\n",
    "\n",
    "    xy_ds: xr.Dataset = param.ClassSelector(\n",
    "        class_=xr.Dataset, label=\"Datacube chunked for spatial reads\", allow_None=False, constant=True\n",
    "    )  # type: ignore\n",
    "    ts_ds: xr.Dataset = param.ClassSelector(\n",
    "        class_=xr.Dataset, label=\"Datacube chunked for temporal reads\", allow_None=False, constant=True\n",
    "    )  # type: ignore\n",
    "\n",
    "    primary_var_name: str = param.Selector(objects=[])  # type: ignore\n",
    "    uncertainty_var_name: str | None = param.Selector(objects=[])  # type: ignore\n",
    "    uncertainty_scalar: float | None = param.Number(default=None, allow_None=True)  # type: ignore\n",
    "\n",
    "    colormap_name: str = param.Selector(objects=list_cmaps(), allow_None=False)  # type: ignore\n",
    "    colormap_min: float = param.Number(default=None, allow_None=False)  # type: ignore\n",
    "    colormap_max: float = param.Number(default=None, allow_None=False)  # type: ignore\n",
    "\n",
    "    def __init__(self, **params):\n",
    "        super().__init__(**params)\n",
    "\n",
    "        data_vars = list(self.xy_ds.data_vars)\n",
    "\n",
    "        # set primary_var_name options from the Dataset\n",
    "        self.param.primary_var_name.objects = data_vars\n",
    "        self.param.primary_var_name.allow_None = False\n",
    "\n",
    "        # set uncertainty_var_name options from the Dataset\n",
    "        self.param.uncertainty_var_name.objects = data_vars\n",
    "        self.param.uncertainty_var_name.allow_None = True\n",
    "\n",
    "        # reassign values to trigger validation\n",
    "        if \"primary_var_name\" in params:\n",
    "            self.primary_var_name = params[\"primary_var_name\"]\n",
    "        else:\n",
    "            self.primary_var_name = data_vars[0]\n",
    "\n",
    "        if \"uncertainty_var_name\" in params:\n",
    "            self.uncertainty_var_name = params[\"uncertainty_var_name\"]\n",
    "        else:\n",
    "            self.uncertainty_var_name = None\n",
    "\n",
    "    @staticmethod\n",
    "    def from_pystac(parent: utils.xyt.XYT, collection: pystac.Collection) -> \"ZarrDataset\":\n",
    "        \"\"\"Create a ZarrDataset from a pystac Collection.\"\"\"\n",
    "\n",
    "        # this is a custom field which provides some default visualization parameters for the zarr datacube\n",
    "        WPL_RENDER_KEY = \"wpl:render\"\n",
    "\n",
    "        if WPL_RENDER_KEY not in collection.extra_fields:\n",
    "            raise ValueError(f\"Collection {collection.id} does not have the required field {WPL_RENDER_KEY}\")\n",
    "\n",
    "        wpl_render = collection.extra_fields[WPL_RENDER_KEY]\n",
    "\n",
    "        xy_asset_key = next(asset for asset in wpl_render[\"assets\"] if asset.endswith(\".xy.zarr\"))\n",
    "        ts_asset_key = next(asset for asset in wpl_render[\"assets\"] if asset.endswith(\".ts.zarr\"))\n",
    "\n",
    "        xy_asset = collection.assets[xy_asset_key]\n",
    "        ts_asset = collection.assets[ts_asset_key]\n",
    "\n",
    "        xy_ds = xr.open_dataset(\n",
    "            xy_asset.href,\n",
    "            **xy_asset.ext.xarray.open_kwargs,  # type: ignore\n",
    "        )\n",
    "        ts_ds = xr.open_dataset(\n",
    "            ts_asset.href,\n",
    "            **ts_asset.ext.xarray.open_kwargs,  # type: ignore\n",
    "        )\n",
    "\n",
    "        return ZarrDataset(\n",
    "            parent=parent,\n",
    "            xy_ds=xy_ds,\n",
    "            ts_ds=ts_ds,\n",
    "            primary_var_name=wpl_render[\"primary_var_name\"],\n",
    "            uncertainty_var_name=wpl_render[\"uncertainty_var_name\"],\n",
    "            uncertainty_scalar=wpl_render[\"uncertainty_scalar\"],\n",
    "            colormap_name=wpl_render[\"colormap_name\"],\n",
    "            colormap_min=wpl_render[\"colormap_range\"][0],\n",
    "            colormap_max=wpl_render[\"colormap_range\"][1],\n",
    "        )\n"
   ]
  },
  {
   "cell_type": "code",
   "execution_count": null,
   "id": "7",
   "metadata": {},
   "outputs": [],
   "source": [
    "obj = ZarrDataset.from_pystac(xyt, collection)"
   ]
  },
  {
   "cell_type": "code",
   "execution_count": null,
   "id": "8",
   "metadata": {},
   "outputs": [],
   "source": [
    "pn.Param(obj.param, hide_constant=True)"
   ]
  },
  {
   "cell_type": "code",
   "execution_count": null,
   "id": "9",
   "metadata": {},
   "outputs": [],
   "source": []
  }
 ],
 "metadata": {
  "kernelspec": {
   "display_name": "wpl-notebooks",
   "language": "python",
   "name": "python3"
  },
  "language_info": {
   "codemirror_mode": {
    "name": "ipython",
    "version": 3
   },
   "file_extension": ".py",
   "mimetype": "text/x-python",
   "name": "python",
   "nbconvert_exporter": "python",
   "pygments_lexer": "ipython3",
   "version": "3.13.3"
  }
 },
 "nbformat": 4,
 "nbformat_minor": 5
}
